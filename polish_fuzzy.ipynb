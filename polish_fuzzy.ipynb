{
  "nbformat": 4,
  "nbformat_minor": 0,
  "metadata": {
    "colab": {
      "name": "polish-fuzzy.ipynb",
      "provenance": [],
      "collapsed_sections": [
        "DdK7h9OVpzTa",
        "H3vlflpYhM4l",
        "NVminfc0hSKm",
        "85AbfFL9i2PD",
        "zd3oDAJhi_IM",
        "X6r7h7Jzja47",
        "levABnjeleAr"
      ],
      "authorship_tag": "ABX9TyONSz0OQTslddVZ+rAKAUY6",
      "include_colab_link": true
    },
    "kernelspec": {
      "name": "python3",
      "display_name": "Python 3"
    },
    "language_info": {
      "name": "python"
    }
  },
  "cells": [
    {
      "cell_type": "markdown",
      "metadata": {
        "id": "view-in-github",
        "colab_type": "text"
      },
      "source": [
        "<a href=\"https://colab.research.google.com/github/Penetrati0n/fuzzy-sets-calculator/blob/main/polish_fuzzy.ipynb\" target=\"_parent\"><img src=\"https://colab.research.google.com/assets/colab-badge.svg\" alt=\"Open In Colab\"/></a>"
      ]
    },
    {
      "cell_type": "code",
      "source": [
        "# @title Functions\n",
        "\n",
        "def mb(a, b):\n",
        "  result = []\n",
        "  for i in range(len(a)):\n",
        "    result.append(max(0, a[i] + b[i] - 1))\n",
        "  return result\n",
        "\n",
        "def me(a, b):\n",
        "  result = []\n",
        "  for i in range(len(a)):\n",
        "    result.append(a[i] * b[i] / (1 + (1 - a[i])*(1 - b[i])))\n",
        "  return result\n",
        "\n",
        "def mg(a, b):\n",
        "  result = []\n",
        "  for i in range(len(a)):\n",
        "    result.append(a[i] * b[i] / (1 - (1 - a[i])*(1 - b[i])))\n",
        "  return result\n",
        "\n",
        "def mi(a, b):\n",
        "  result = []\n",
        "  for i in range(len(a)):\n",
        "    if max(a[i], b[i]) < 1:\n",
        "      result.append(0)\n",
        "    elif max(a[i], b[i]) == 1:\n",
        "      result.append(min(a[i], b[i]))\n",
        "  return result\n",
        "\n",
        "def ms(a, b):\n",
        "  result = []\n",
        "  for i in range(len(a)):\n",
        "    if b[i] == 1:\n",
        "      result.append(a[i])\n",
        "    elif a[i] == 1:\n",
        "      result.append(b[i])\n",
        "    else:\n",
        "      result.append(0)\n",
        "  return result\n",
        "\n",
        "# ------------------------------------------\n",
        "\n",
        "def sb(a, b):\n",
        "  result = []\n",
        "  for i in range(len(a)):\n",
        "    result.append(min(1, a[i] + b[i]))\n",
        "  return result\n",
        "\n",
        "def se(a, b):\n",
        "  result = []\n",
        "  for i in range(len(a)):\n",
        "    result.append(1 - (1 - a[i]) * (1 - b[i]) / (1 + a[i] * b[i]))\n",
        "  return result\n",
        "\n",
        "def sg(a, b):\n",
        "  result = []\n",
        "  for i in range(len(a)):\n",
        "    result.append(1 - (1 - a[i]) * (1 - b[i]) / (1 - a[i] * b[i]))\n",
        "  return result\n",
        "\n",
        "def si(a, b):\n",
        "  result = []\n",
        "  for i in range(len(a)):\n",
        "    if min(a[i], b[i]) > 0:\n",
        "      result.append(1)\n",
        "    elif min(a[i], b[i]) == 0:\n",
        "      result.append(max(a[i], b[i]))\n",
        "  return result\n",
        "\n",
        "def ss(a, b):\n",
        "  result = []\n",
        "  for i in range(len(a)):\n",
        "    if b[i] == 0:\n",
        "      result.append(a[i])\n",
        "    elif a[i] == 0:\n",
        "      result.append(b[i])\n",
        "    else:\n",
        "      result.append(1)\n",
        "  return result\n",
        "\n",
        "# dopolnenie '\n",
        "def dop(a):\n",
        "  result = []\n",
        "  for i in range(len(a)):\n",
        "    result.append(1 - a[i])\n",
        "  return result\n",
        "\n",
        "# v perevert\n",
        "def peresechenie(a, b):\n",
        "  result = []\n",
        "  for i in range(len(a)):\n",
        "    result.append(min(a[i], b[i]))\n",
        "  return result\n",
        "\n",
        "# v\n",
        "def obedinenie(a, b):\n",
        "  result = []\n",
        "  for i in range(len(a)):\n",
        "    result.append(max(a[i], b[i]))\n",
        "  return result\n",
        "\n",
        "# -\n",
        "def raznost(a, b):\n",
        "  result = []\n",
        "  for i in range(len(a)):\n",
        "    result.append(min(a[i], 1 - b[i]))\n",
        "  return result\n",
        "\n",
        "# \\\n",
        "def reznost_ogr(a, b):\n",
        "  result = []\n",
        "  for i in range(len(a)):\n",
        "    result.append(max(0, a[i] - b[i]))\n",
        "  return result\n",
        "\n",
        "# diz sum\n",
        "def diz_sim(a, b):\n",
        "  result = []\n",
        "  for i in range(len(a)):\n",
        "    result.append(max(min(a[i], 1 - b[i]), min(1 - a[i], b[i])))\n",
        "  return result\n",
        "\n",
        "# *\n",
        "def multi(a, b):\n",
        "  result = []\n",
        "  for i in range(len(a)):\n",
        "    result.append(a[i] * b[i])\n",
        "  return result\n",
        "\n",
        "# sum\n",
        "def alg_sum(a, b):\n",
        "  result = []\n",
        "  for i in range(len(a)):\n",
        "    result.append(a[i] + b[i] - a[i] * b[i])\n",
        "  return result\n",
        "\n",
        "# pow\n",
        "def pow_f(a, b):\n",
        "  result = []\n",
        "  for i in range(len(a)):\n",
        "    result.append(pow(a[i], b))\n",
        "  return result\n",
        "\n",
        "def multi_f(a, b):\n",
        "  result = []\n",
        "  for i in range(len(a)):\n",
        "    result.append(a[i] * b)\n",
        "  return result\n",
        "\n",
        "# ----------------------------------------------------------------\n",
        "\n",
        "def parse_sets(data: str):\n",
        "  global SETS\n",
        "  lines = [line for line in data.split('\\n') if line != '']\n",
        "  SETS = {}\n",
        "  for line in lines:\n",
        "    els = line.split('\\t')\n",
        "    SETS[els[0]] = [float(el.replace(',', '.')) for el in els[1:]]\n",
        "\n",
        "def round_set(a, len):\n",
        "  return [round(i, len) for i in a]\n",
        "  # from decimal import Decimal, ROUND_UP\n",
        "  # return [float(Decimal(i).quantize(Decimal('.' + '0' * (len - 1) + '1'), rounding=ROUND_UP)) for i in a]\n",
        "\n",
        "def get_set(set_name: str) -> list:\n",
        "  global SETS\n",
        "  return SETS[set_name]\n",
        "\n",
        "def parse_weights(weights_str: str) -> list:\n",
        "  return [float(i.replace(',', '.').strip()) for i in weights_str.strip().split(';')]\n",
        "\n",
        "def get_sets_by_str(sets_names: str) -> list:\n",
        "  return [get_set(name) for name in [i for i in sets_names_str.strip()]]\n",
        "\n",
        "def convex_combination(weights: list, sets: list) -> list:\n",
        "  return [sum([sets[j][i] * weights[j] for j in range(len(sets))]) for i in range(len(sets[0]))]\n",
        "\n",
        "def parse_k_set(data: str) -> dict:\n",
        "  import re\n",
        "  ROW_NUMBER_REGEX = r'K\\(x([0-9]+)\\)='\n",
        "  ELEMENT_IN_ROW_REGEX = r'([0-9,]+)/x([0-9]+)'\n",
        "  lines = [i.strip() for i in data.split('\\n') if i != '']\n",
        "  K = {}\n",
        "  for line in lines:\n",
        "    row_number = int(re.match(ROW_NUMBER_REGEX, line).group(1))\n",
        "    K[row_number] = {int(el[1]): float(el[0].replace(',', '.')) for el in re.findall(ELEMENT_IN_ROW_REGEX, line)}\n",
        "  return K\n",
        "\n",
        "def increasing_fuzziness(set: list, K: dict):\n",
        "  result = []\n",
        "  for i in range(len(set)):\n",
        "    result.append(max([(K[j + 1][i + 1] if i + 1 in K[j + 1] else 0) * set[j] for j in range(len(K))]))\n",
        "  return result\n"
      ],
      "metadata": {
        "id": "AaY39vsNrolL",
        "cellView": "form"
      },
      "execution_count": 1,
      "outputs": []
    },
    {
      "cell_type": "code",
      "source": [
        "# @title Dicts\n",
        "\n",
        "PRIORITY = {\n",
        "    '﹁': 7,\n",
        "    '∩': 6,\n",
        "    '*': 5,\n",
        "    'me': 5,\n",
        "    'mg': 5,\n",
        "    'mb': 5,\n",
        "    'mi': 5,\n",
        "    'ms': 5,\n",
        "    '∪': 4,\n",
        "    '+': 3,\n",
        "    'se': 3,\n",
        "    'sg': 3,\n",
        "    'sb': 3,\n",
        "    'si': 3,\n",
        "    'ss': 3,\n",
        "    '-': 2,\n",
        "    '\\\\': 2,\n",
        "    '⊕': 1,\n",
        "}\n",
        "\n",
        "ARGS = {\n",
        "    '﹁': 1,\n",
        "    '∩': 2,\n",
        "    '*': 2,\n",
        "    'me': 2,\n",
        "    'mg': 2,\n",
        "    'mb': 2,\n",
        "    'mi': 2,\n",
        "    'ms': 2,\n",
        "    '∪': 2,\n",
        "    '+': 2,\n",
        "    'se': 2,\n",
        "    'sg': 2,\n",
        "    'sb': 2,\n",
        "    'si': 2,\n",
        "    'ss': 2,\n",
        "    '-': 2,\n",
        "    '\\\\': 2,\n",
        "    '⊕': 2,\n",
        "}\n",
        "\n",
        "FUNCTIONS = {\n",
        "    '﹁': dop,\n",
        "    '∩': peresechenie,\n",
        "    '*': multi,\n",
        "    'me': me,\n",
        "    'mg': mg,\n",
        "    'mb': mb,\n",
        "    'mi': mi,\n",
        "    'ms': ms,\n",
        "    '∪': obedinenie,\n",
        "    '+': alg_sum,\n",
        "    'se': se,\n",
        "    'sg': sg,\n",
        "    'sb': sb,\n",
        "    'si': si,\n",
        "    'ss': ss,\n",
        "    '-': raznost,\n",
        "    '\\\\': reznost_ogr,\n",
        "    '⊕': diz_sim,\n",
        "}\n",
        "\n",
        "SETS = {}"
      ],
      "metadata": {
        "id": "4UWqgwLrnUlB",
        "cellView": "form"
      },
      "execution_count": 2,
      "outputs": []
    },
    {
      "cell_type": "code",
      "source": [
        "# @title Stack\n",
        "\n",
        "class Stack():\n",
        "  __list: list\n",
        "\n",
        "  def __init__(self):\n",
        "    self.__list = []\n",
        "\n",
        "  def push(self, el):\n",
        "    self.__list.append(el)\n",
        "\n",
        "  def pop(self):\n",
        "    return self.__list.pop()\n",
        "\n",
        "  def peek(self):\n",
        "    return self.__list[-1] if len(self.__list) else None\n",
        "\n",
        "  def empty(self) -> bool:\n",
        "    return len(self.__list) == 0\n",
        "\n",
        "  def view(self) -> list:\n",
        "    return self.__list\n"
      ],
      "metadata": {
        "cellView": "form",
        "id": "--yKjGajdox4"
      },
      "execution_count": 3,
      "outputs": []
    },
    {
      "cell_type": "code",
      "source": [
        "# @title Computing\n",
        "\n",
        "def computing(text, sets):\n",
        "  variables = []\n",
        "  stack = Stack()\n",
        "\n",
        "  for s in [el.strip().replace('∙', '*').replace('U', '∪') for el in text.split(' ') if el != '']:\n",
        "    if s == '(':\n",
        "      stack.push('(')\n",
        "    elif s == ')':\n",
        "      while stack.peek() != '(':\n",
        "        variables.append(stack.pop())\n",
        "      stack.pop()\n",
        "    elif s in PRIORITY:\n",
        "      if stack.empty() or stack.peek() == '(' or PRIORITY[stack.peek()] < PRIORITY[s]:\n",
        "        stack.push(s)\n",
        "      else:\n",
        "        while not stack.empty() and stack.peek() != '(' and PRIORITY[stack.peek()] >= PRIORITY[s]:\n",
        "          variables.append(stack.pop())\n",
        "        stack.push(s)\n",
        "        # variables.append(s)\n",
        "    elif s in sets:\n",
        "      variables.append(s)\n",
        "\n",
        "  while not stack.empty():\n",
        "    variables.append(stack.pop())\n",
        "  \n",
        "  stack = Stack()\n",
        "\n",
        "  for el in variables:\n",
        "    if el in sets:\n",
        "      stack.push(sets[el])\n",
        "    elif el in ARGS:\n",
        "      if ARGS[el] == 1:\n",
        "        el1 = stack.pop()\n",
        "        stack.push(FUNCTIONS[el](el1))\n",
        "      else:\n",
        "        el2 = stack.pop()\n",
        "        el1 = stack.pop()\n",
        "        stack.push(FUNCTIONS[el](el1, el2))\n",
        "\n",
        "  return stack.view()[0]\n",
        "\n"
      ],
      "metadata": {
        "id": "urhL2-pFnUqc",
        "cellView": "form"
      },
      "execution_count": 4,
      "outputs": []
    },
    {
      "cell_type": "markdown",
      "source": [
        "# Сюда вставляем нечеткие множества"
      ],
      "metadata": {
        "id": "DdK7h9OVpzTa"
      }
    },
    {
      "cell_type": "code",
      "source": [
        "# ------------------------------------------------------------------------------\n",
        "# Нужно скопировать диапозон (с названиями нечетких множеств) из Excel, вставить в блокнот.\n",
        "# Потом скопировать все из блокнота в переменную data.\n",
        "data = \"\"\"\n",
        "A\t0,48\t0,72\t0,53\t0,04\t0,97\t0,17\t0,05\t0,19\t0,29\t0,71\t0,87\t0,75\t0,56\n",
        "B\t0,13\t0,69\t0,36\t0,15\t0,51\t0,65\t0,85\t0,62\t0,99\t0,27\t0,66\t0,09\t0,11\n",
        "C\t0,27\t0,17\t0,08\t0,03\t0,59\t0,78\t0,01\t0\t0,51\t0,05\t0,18\t0,52\t0,25\n",
        "D\t0,72\t0,55\t0,96\t0,86\t0,96\t0,48\t0,7\t0,99\t0,96\t0,23\t0,63\t0,7\t0,24\n",
        "E\t0,57\t0,4\t0,02\t0,48\t0,44\t0,86\t0,94\t0,85\t0,9\t0,87\t0,1\t0,26\t0,12\n",
        "\n",
        "\"\"\"\n",
        "# До скольки знаков округлять.\n",
        "# Python плохо округляет, поэтому ставьте больше знаков для уверености.\n",
        "ROUND_C = 5\n",
        "# ------------------------------------------------------------------------------\n",
        "# Всё, что ниже, не меняем.\n",
        "# ------------------------------------------------------------------------------\n",
        "\n",
        "parse_sets(data)"
      ],
      "metadata": {
        "id": "99X8N2IXpzhq"
      },
      "execution_count": 5,
      "outputs": []
    },
    {
      "cell_type": "markdown",
      "source": [
        "# Задание 1."
      ],
      "metadata": {
        "id": "H3vlflpYhM4l"
      }
    },
    {
      "cell_type": "code",
      "source": [
        "# ------------------------------------------------------------------------------\n",
        "# !!! ВСЕ ЭЛЕМЕНТЫ ВВОДИТЬ ЧЕРЕЗ ПРОБЕЛ !!!\n",
        "# \n",
        "# Доступные операторы:\n",
        "# ﹁ ∩ * me mg mb mi ms ∪ + se sg sb si ss - \\ ⊕\n",
        "# Можно использовать только их.\n",
        "# \n",
        "# Возможные поблемы:\n",
        "# U может не работать, потому что в заданиях испльзуется маленькая u. Используйте (копируйте) вот этот символ -> ∪ <-.\n",
        "# ------------------------------------------------------------------------------\n",
        "# Выражения.\n",
        "# Каждое выражение в новой строке.\n",
        "expressions = \"\"\"\n",
        " ﹁ ( A ∩ B ) + C  \n",
        " D ∪ ﹁ A mg E  \n",
        " A ss ( ﹁ B ⊕ C )  \n",
        " ﹁ A ∙ ( ﹁ B \\ C ) se D  \n",
        " A si ﹁ B ⊕ ﹁ ( C me D )  \n",
        " C se ﹁ A - E mb B  \n",
        " ( A ms B - ﹁ C ) ⊕ ﹁ D se E  \n",
        " ﹁ ( E ss A ) mg ﹁ ( B ∩ C ∙ ﹁ D )  \n",
        " D + A ∙ E ∩ B ∪ ﹁ C  \n",
        "\"\"\"\n",
        "# ------------------------------------------------------------------------------\n",
        "# Всё, что ниже, не меняем.\n",
        "# ------------------------------------------------------------------------------\n",
        "\n",
        "for expression in [e for e in expressions.split('\\n') if e != '']:\n",
        "  # print(round_set(computing(expression, SETS), ROUND_C)) # Неформатированный вывод.\n",
        "  print(f'{expression} =', round_set(computing(expression, SETS), ROUND_C))"
      ],
      "metadata": {
        "colab": {
          "base_uri": "https://localhost:8080/"
        },
        "id": "Jc9RBw5d2Giu",
        "outputId": "0e4d2ae2-7728-4d39-ec6e-7576963e3a2a"
      },
      "execution_count": 6,
      "outputs": [
        {
          "output_type": "stream",
          "name": "stdout",
          "text": [
            " ﹁ ( A ∩ B ) + C   = [0.9051, 0.4273, 0.6688, 0.9612, 0.7909, 0.9626, 0.9505, 0.81, 0.8579, 0.7435, 0.4588, 0.9568, 0.9175]\n",
            " D ∪ ﹁ A mg E   = [0.72, 0.55, 0.96, 0.86, 0.96, 0.7312, 0.89569, 0.99, 0.96, 0.27796, 0.63, 0.7, 0.24]\n",
            " A ss ( ﹁ B ⊕ C )   = [1, 1, 1, 1, 1, 1, 1, 1, 1, 1, 1, 1, 1]\n",
            " ﹁ A ∙ ( ﹁ B \\ C ) se D   = [0.8427, 0.57676, 0.97647, 0.98223, 0.96, 0.48, 0.76205, 0.99469, 0.96, 0.40866, 0.64238, 0.74655, 0.48858]\n",
            " A si ﹁ B ⊕ ﹁ ( C me D )   = [0.16141, 0.06807, 0.07407, 0.02272, 0.55726, 0.33597, 0.0054, 0.0, 0.48019, 0.00664, 0.087, 0.31818, 0.03822]\n",
            " C se ﹁ A - E mb B   = [0.69274, 0.42955, 0.53007, 0.96229, 0.60922, 0.49, 0.21, 0.53, 0.11, 0.33514, 0.30291, 0.68142, 0.62162]\n",
            " ( A ms B - ﹁ C ) ⊕ ﹁ D se E   = [0.73301, 0.72034, 0.05995, 0.58096, 0.4717, 0.95357, 0.96724, 0.85275, 0.90734, 0.98209, 0.45323, 0.51948, 0.80645]\n",
            " ﹁ ( E ss A ) mg ﹁ ( B ∩ C ∙ ﹁ D )   = [0.0, 0.0, 0.0, 0.0, 0.0, 0.0, 0.0, 0.0, 0.0, 0.0, 0.0, 0.0, 0.0]\n",
            " D + A ∙ E ∩ B ∪ ﹁ C   = [0.9244, 0.9235, 0.9968, 0.9958, 0.97707, 0.5944, 0.997, 1.0, 0.9796, 0.9615, 0.9334, 0.844, 0.81]\n"
          ]
        }
      ]
    },
    {
      "cell_type": "markdown",
      "source": [
        "# Задание 2."
      ],
      "metadata": {
        "id": "NVminfc0hSKm"
      }
    },
    {
      "cell_type": "code",
      "source": [
        "# ------------------------------------------------------------------------------\n",
        "# Множество (имя) для концентрирования.\n",
        "set_name = 'B'\n",
        "# ------------------------------------------------------------------------------\n",
        "# Всё, что ниже, не меняем.\n",
        "# ------------------------------------------------------------------------------\n",
        "\n",
        "# print(round_set(pow_f(get_set(set_name), 2), ROUND_C)) # Неформатированный вывод.\n",
        "print(f'CON({set_name}) =', round_set(pow_f(get_set(set_name), 2), ROUND_C))"
      ],
      "metadata": {
        "colab": {
          "base_uri": "https://localhost:8080/"
        },
        "id": "dF2EAWg3gy6k",
        "outputId": "36e2ba07-e959-4940-e97e-1cbe8823cd1a"
      },
      "execution_count": 7,
      "outputs": [
        {
          "output_type": "stream",
          "name": "stdout",
          "text": [
            "CON(B) = [0.0169, 0.4761, 0.1296, 0.0225, 0.2601, 0.4225, 0.7225, 0.3844, 0.9801, 0.0729, 0.4356, 0.0081, 0.0121]\n"
          ]
        }
      ]
    },
    {
      "cell_type": "markdown",
      "source": [
        "# Задание 3."
      ],
      "metadata": {
        "id": "85AbfFL9i2PD"
      }
    },
    {
      "cell_type": "code",
      "source": [
        "# ------------------------------------------------------------------------------\n",
        "# Множество (имя) для растяжения.\n",
        "set_name = 'B'\n",
        "# ------------------------------------------------------------------------------\n",
        "# Всё, что ниже, не меняем.\n",
        "# ------------------------------------------------------------------------------\n",
        "\n",
        "# print(round_set(pow_f(get_set(set_name), 0.5), ROUND_C)) # Неформатированный вывод.\n",
        "print(f'DIL({set_name}) =', round_set(pow_f(get_set(set_name), 0.5), ROUND_C))"
      ],
      "metadata": {
        "colab": {
          "base_uri": "https://localhost:8080/"
        },
        "id": "9RqgTWnDienw",
        "outputId": "568983e0-bdb0-49c6-f1bf-5f795d74254a"
      },
      "execution_count": 8,
      "outputs": [
        {
          "output_type": "stream",
          "name": "stdout",
          "text": [
            "DIL(B) = [0.36056, 0.83066, 0.6, 0.3873, 0.71414, 0.80623, 0.92195, 0.7874, 0.99499, 0.51962, 0.8124, 0.3, 0.33166]\n"
          ]
        }
      ]
    },
    {
      "cell_type": "markdown",
      "source": [
        "# Задание 4."
      ],
      "metadata": {
        "id": "zd3oDAJhi_IM"
      }
    },
    {
      "cell_type": "code",
      "source": [
        "# ------------------------------------------------------------------------------\n",
        "# Число, на которое нужно умножить.\n",
        "a = 0.02\n",
        "# Множество (имя), которое будем умножать.\n",
        "set_name = 'B'\n",
        "# ------------------------------------------------------------------------------\n",
        "# Всё, что ниже, не меняем.\n",
        "# ------------------------------------------------------------------------------\n",
        "\n",
        "# print(round_set(multi_f(get_set(set_name), a), ROUND_C)) # Неформатированный вывод.\n",
        "print(f'{a} * {set_name} =', round_set(multi_f(get_set(set_name), a), ROUND_C))"
      ],
      "metadata": {
        "colab": {
          "base_uri": "https://localhost:8080/"
        },
        "id": "96VdKgkBi-b0",
        "outputId": "9edff710-0c8f-4732-a2dd-1f8692caecaa"
      },
      "execution_count": 9,
      "outputs": [
        {
          "output_type": "stream",
          "name": "stdout",
          "text": [
            "0.02 * B = [0.0026, 0.0138, 0.0072, 0.003, 0.0102, 0.013, 0.017, 0.0124, 0.0198, 0.0054, 0.0132, 0.0018, 0.0022]\n"
          ]
        }
      ]
    },
    {
      "cell_type": "markdown",
      "source": [
        "# Задание 5."
      ],
      "metadata": {
        "id": "X6r7h7Jzja47"
      }
    },
    {
      "cell_type": "code",
      "source": [
        "# ------------------------------------------------------------------------------\n",
        "# Веса, разделенные ';'.\n",
        "weights_str = '0,39 ; 0,61'\n",
        "# Имена множеств (без разделителя), учавствующие в задании.\n",
        "sets_names_str = 'AB'\n",
        "# ------------------------------------------------------------------------------\n",
        "# Всё, что ниже, не меняем.\n",
        "# ------------------------------------------------------------------------------\n",
        "\n",
        "# print(round_set(convex_combination(parse_weights(weights_str), get_sets_by_str(sets_names_str)), ROUND_C)) # Неформатированный вывод.\n",
        "print('BK({}) ='.format(', '.join(sets_names_str)),\n",
        "      round_set(convex_combination(parse_weights(weights_str), get_sets_by_str(sets_names_str)), ROUND_C))"
      ],
      "metadata": {
        "colab": {
          "base_uri": "https://localhost:8080/"
        },
        "id": "M3FQaXILjabQ",
        "outputId": "bc48a1e8-8d52-434e-8d29-87182e58c5ed"
      },
      "execution_count": 10,
      "outputs": [
        {
          "output_type": "stream",
          "name": "stdout",
          "text": [
            "BK(A, B) = [0.2665, 0.7017, 0.4263, 0.1071, 0.6894, 0.4628, 0.538, 0.4523, 0.717, 0.4416, 0.7419, 0.3474, 0.2855]\n"
          ]
        }
      ]
    },
    {
      "cell_type": "markdown",
      "source": [
        "# Задание 6."
      ],
      "metadata": {
        "id": "levABnjeleAr"
      }
    },
    {
      "cell_type": "code",
      "source": [
        "# ------------------------------------------------------------------------------\n",
        "# Ядро множества K.\n",
        "# Каждая запись должна быть в одной строке.\n",
        "data = \"\"\"\n",
        "K(x1)=1/x1+0,57/x2+0,33/x3+0,38/x4+0,1/x5+0,81/x6+0,3/x7+0,22/x8+0,1/x9+0,86/x10+0,71/x11+0,5/x12+0,42/x13; \n",
        "K(x2)=1/x2+0,39/x1+0,54/x3+0,11/x4+0,14/x5+0,49/x6+0,1/x7+0,55/x8+0,31/x9+0,23/x10+0,69/x11+0,56/x12+0,27/x13; \n",
        "K(x3)=1/x3+0,64/x1+0,51/x2+0,42/x4+0,58/x5+0,16/x6+0,82/x7+0,6/x8+0,4/x9+0,14/x10+0,33/x11+0,93/x12+0,23/x13; \n",
        "K(x4)=1/x4+0,11/x1+0,63/x2+0,95/x3+0,27/x5+0,23/x6+0,35/x7+0,51/x8+0,7/x9+0,26/x10+0,79/x11+0,85/x12+0,2/x13; \n",
        "K(x5)=1/x5+0,21/x1+0,45/x2+0,86/x3+0,41/x4+0,26/x6+0,56/x7+0,57/x8+0,87/x9+0,77/x10+0,1/x11+0,46/x12+0,3/x13; \n",
        "K(x6)=1/x6+0,87/x1+0,64/x2+0,93/x3+0,04/x4+0,1/x5+0,09/x7+0,27/x8+0,05/x9+0,61/x10+0,88/x11+0,03/x12+0,85/x13; \n",
        "K(x7)=1/x7+0,15/x1+0,27/x2+0,07/x3+0,88/x4+0,18/x5+0,86/x6+0,84/x9+0,65/x10+0,21/x11+0,36/x12+0,7/x13; \n",
        "K(x8)=1/x8+0,95/x1+0,18/x2+0,14/x3+0,58/x4+0,75/x5+0,06/x6+0,45/x7+0,17/x10+0,65/x11+0,39/x12+0,59/x13; \n",
        "K(x9)=1/x9+0,42/x1+0,47/x2+0,59/x3+0,17/x4+0,52/x5+0,79/x6+0,59/x7+0,33/x8+0,41/x10+0,01/x11+0,26/x12+0,99/x13; \n",
        "K(x10)=1/x10+0,48/x1+0,69/x2+0,69/x3+0,9/x4+0,09/x5+0,61/x6+0,65/x7+0,66/x8+0,28/x9+0,22/x11+0,08/x12+0,92/x13; \n",
        "K(x11)=1/x11+0,95/x1+0,68/x2+0,3/x3+0,54/x4+0,42/x5+0,03/x6+0,67/x7+0,5/x8+0,88/x9+0,48/x10+0,45/x12+0,7/x13; \n",
        "K(x12)=1/x12+0,27/x1+0,83/x2+0,32/x3+0,85/x4+0,62/x5+0,02/x6+0,29/x7+0,93/x8+0,92/x9+0,14/x10+0,1/x11+0,06/x13; \n",
        "K(x13)=1/x13+0,36/x1+0,54/x2+0,9/x3+0,55/x4+0,73/x6+0,31/x7+0,19/x8+0,38/x9+0,67/x10+0,21/x11+0,83/x12; \n",
        "\"\"\"\n",
        "# Имя множества для задания.\n",
        "set_name = 'B'\n",
        "# ------------------------------------------------------------------------------\n",
        "# Всё, что ниже, не меняем.\n",
        "# ------------------------------------------------------------------------------\n",
        " \n",
        "# print(round_set(increasing_fuzziness(get_set(set_name), parse_k_set(data)), ROUND_C)) # Неформатированный вывод.\n",
        "print(f'Ф({set_name}, K) =', round_set(increasing_fuzziness(get_set(set_name), parse_k_set(data)), ROUND_C))"
      ],
      "metadata": {
        "colab": {
          "base_uri": "https://localhost:8080/"
        },
        "id": "gQBjJtklldN-",
        "outputId": "8b4e9cf5-edb8-46af-e4d0-00b2988bc3a5"
      },
      "execution_count": 11,
      "outputs": [
        {
          "output_type": "stream",
          "name": "stdout",
          "text": [
            "Ф(B, K) = [0.627, 0.69, 0.6045, 0.748, 0.5148, 0.7821, 0.85, 0.62, 0.99, 0.5525, 0.66, 0.3864, 0.9801]\n"
          ]
        }
      ]
    }
  ]
}