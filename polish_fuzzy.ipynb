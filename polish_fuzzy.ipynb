{
  "nbformat": 4,
  "nbformat_minor": 0,
  "metadata": {
    "colab": {
      "name": "polish-fuzzy.ipynb",
      "provenance": [],
      "collapsed_sections": [
        "DdK7h9OVpzTa",
        "H3vlflpYhM4l",
        "NVminfc0hSKm",
        "85AbfFL9i2PD",
        "zd3oDAJhi_IM",
        "X6r7h7Jzja47",
        "levABnjeleAr"
      ],
      "authorship_tag": "ABX9TyMh52iIPfluf19870mutMqi",
      "include_colab_link": true
    },
    "kernelspec": {
      "name": "python3",
      "display_name": "Python 3"
    },
    "language_info": {
      "name": "python"
    }
  },
  "cells": [
    {
      "cell_type": "markdown",
      "metadata": {
        "id": "view-in-github",
        "colab_type": "text"
      },
      "source": [
        "<a href=\"https://colab.research.google.com/github/Penetrati0n/fuzzy-sets-calculator/blob/main/polish_fuzzy.ipynb\" target=\"_parent\"><img src=\"https://colab.research.google.com/assets/colab-badge.svg\" alt=\"Open In Colab\"/></a>"
      ]
    },
    {
      "cell_type": "code",
      "source": [
        "# @title Functions\n",
        "\n",
        "def mb(a, b):\n",
        "  result = []\n",
        "  for i in range(len(a)):\n",
        "    result.append(max(0, a[i] + b[i] - 1))\n",
        "  return result\n",
        "\n",
        "def me(a, b):\n",
        "  result = []\n",
        "  for i in range(len(a)):\n",
        "    result.append(a[i] * b[i] / (1 + (1 - a[i])*(1 - b[i])))\n",
        "  return result\n",
        "\n",
        "def mg(a, b):\n",
        "  result = []\n",
        "  for i in range(len(a)):\n",
        "    result.append(a[i] * b[i] / (1 - (1 - a[i])*(1 - b[i])))\n",
        "  return result\n",
        "\n",
        "def mi(a, b):\n",
        "  result = []\n",
        "  for i in range(len(a)):\n",
        "    if max(a[i], b[i]) < 1:\n",
        "      result.append(0)\n",
        "    elif max(a[i], b[i]) == 1:\n",
        "      result.append(min(a[i], b[i]))\n",
        "  return result\n",
        "\n",
        "def ms(a, b):\n",
        "  result = []\n",
        "  for i in range(len(a)):\n",
        "    if b[i] == 1:\n",
        "      result.append(a[i])\n",
        "    elif a[i] == 1:\n",
        "      result.append(b[i])\n",
        "    else:\n",
        "      result.append(0)\n",
        "  return result\n",
        "\n",
        "# ------------------------------------------\n",
        "\n",
        "def sb(a, b):\n",
        "  result = []\n",
        "  for i in range(len(a)):\n",
        "    result.append(min(1, a[i] + b[i]))\n",
        "  return result\n",
        "\n",
        "def se(a, b):\n",
        "  result = []\n",
        "  for i in range(len(a)):\n",
        "    result.append(1 - (1 - a[i]) * (1 - b[i]) / (1 + a[i] * b[i]))\n",
        "  return result\n",
        "\n",
        "def sg(a, b):\n",
        "  result = []\n",
        "  for i in range(len(a)):\n",
        "    result.append(1 - (1 - a[i]) * (1 - b[i]) / (1 - a[i] * b[i]))\n",
        "  return result\n",
        "\n",
        "def si(a, b):\n",
        "  result = []\n",
        "  for i in range(len(a)):\n",
        "    if min(a[i], b[i]) > 0:\n",
        "      result.append(1)\n",
        "    elif min(a[i], b[i]) == 0:\n",
        "      result.append(max(a[i], b[i]))\n",
        "  return result\n",
        "\n",
        "def ss(a, b):\n",
        "  result = []\n",
        "  for i in range(len(a)):\n",
        "    if b[i] == 0:\n",
        "      result.append(a[i])\n",
        "    elif a[i] == 0:\n",
        "      result.append(b[i])\n",
        "    else:\n",
        "      result.append(1)\n",
        "  return result\n",
        "\n",
        "# dopolnenie '\n",
        "def dop(a):\n",
        "  result = []\n",
        "  for i in range(len(a)):\n",
        "    result.append(1 - a[i])\n",
        "  return result\n",
        "\n",
        "# v perevert\n",
        "def peresechenie(a, b):\n",
        "  result = []\n",
        "  for i in range(len(a)):\n",
        "    result.append(min(a[i], b[i]))\n",
        "  return result\n",
        "\n",
        "# v\n",
        "def obedinenie(a, b):\n",
        "  result = []\n",
        "  for i in range(len(a)):\n",
        "    result.append(max(a[i], b[i]))\n",
        "  return result\n",
        "\n",
        "# -\n",
        "def raznost(a, b):\n",
        "  result = []\n",
        "  for i in range(len(a)):\n",
        "    result.append(min(a[i], 1 - b[i]))\n",
        "  return result\n",
        "\n",
        "# \\\n",
        "def reznost_ogr(a, b):\n",
        "  result = []\n",
        "  for i in range(len(a)):\n",
        "    result.append(max(0, a[i] - b[i]))\n",
        "  return result\n",
        "\n",
        "# diz sum\n",
        "def diz_sim(a, b):\n",
        "  result = []\n",
        "  for i in range(len(a)):\n",
        "    result.append(max(min(a[i], 1 - b[i]), min(1 - a[i], b[i])))\n",
        "  return result\n",
        "\n",
        "# *\n",
        "def multi(a, b):\n",
        "  result = []\n",
        "  for i in range(len(a)):\n",
        "    result.append(a[i] * b[i])\n",
        "  return result\n",
        "\n",
        "# sum\n",
        "def alg_sum(a, b):\n",
        "  result = []\n",
        "  for i in range(len(a)):\n",
        "    result.append(a[i] + b[i] - a[i] * b[i])\n",
        "  return result\n",
        "\n",
        "# pow\n",
        "def pow_f(a, b):\n",
        "  result = []\n",
        "  for i in range(len(a)):\n",
        "    result.append(pow(a[i], b))\n",
        "  return result\n",
        "\n",
        "def multi_f(a, b):\n",
        "  result = []\n",
        "  for i in range(len(a)):\n",
        "    result.append(a[i] * b)\n",
        "  return result\n",
        "\n",
        "# ----------------------------------------------------------------\n",
        "\n",
        "def parse_sets(data: str):\n",
        "  global SETS\n",
        "  lines = [line for line in data.split('\\n') if line != '']\n",
        "  SETS = {}\n",
        "  for line in lines:\n",
        "    els = line.split('\\t')\n",
        "    SETS[els[0]] = [float(el.replace(',', '.')) for el in els[1:]]\n",
        "\n",
        "def round_set(a, len):\n",
        "  return [round(i, len) for i in a]\n",
        "\n",
        "def get_set(set_name: str) -> list:\n",
        "  global SETS\n",
        "  return SETS[set_name]\n",
        "\n",
        "def parse_weights(weights_str: str) -> list:\n",
        "  return [float(i.replace(',', '.').strip()) for i in weights_str.strip().split(';')]\n",
        "\n",
        "def get_sets_by_str(sets_names: str) -> list:\n",
        "  return [get_set(name) for name in [i for i in sets_names_str.strip()]]\n",
        "\n",
        "def convex_combination(weights: list, sets: list) -> list:\n",
        "  return [sum([sets[j][i] * weights[j] for j in range(len(sets))]) for i in range(len(sets[0]))]\n",
        "\n",
        "def parse_k_set(data: str) -> dict:\n",
        "  import re\n",
        "  ROW_NUMBER_REGEX = r'K\\(x([0-9]+)\\)='\n",
        "  ELEMENT_IN_ROW_REGEX = r'([0-9,]+)/x([0-9]+)'\n",
        "  lines = [i.strip() for i in data.split('\\n') if i != '']\n",
        "  K = {}\n",
        "  for line in lines:\n",
        "    row_number = int(re.match(ROW_NUMBER_REGEX, line).group(1))\n",
        "    K[row_number] = {int(el[1]): float(el[0].replace(',', '.')) for el in re.findall(ELEMENT_IN_ROW_REGEX, line)}\n",
        "  return K\n",
        "\n",
        "def increasing_fuzziness(set: list, K: dict):\n",
        "  result = []\n",
        "  for i in range(len(set)):\n",
        "    result.append(max([(K[j + 1][i + 1] if i + 1 in K[j + 1] else 0) * set[j] for j in range(len(K))]))\n",
        "  return result\n"
      ],
      "metadata": {
        "id": "AaY39vsNrolL"
      },
      "execution_count": 12,
      "outputs": []
    },
    {
      "cell_type": "code",
      "source": [
        "# @title Dicts\n",
        "\n",
        "PRIORITY = {\n",
        "    '﹁': 7,\n",
        "    '∩': 6,\n",
        "    '*': 5,\n",
        "    'me': 5,\n",
        "    'mg': 5,\n",
        "    'mb': 5,\n",
        "    'mi': 5,\n",
        "    'ms': 5,\n",
        "    '∪': 4,\n",
        "    '+': 3,\n",
        "    'se': 3,\n",
        "    'sg': 3,\n",
        "    'sb': 3,\n",
        "    'si': 3,\n",
        "    'ss': 3,\n",
        "    '-': 2,\n",
        "    '\\\\': 2,\n",
        "    '⊕': 1,\n",
        "}\n",
        "\n",
        "ARGS = {\n",
        "    '﹁': 1,\n",
        "    '∩': 2,\n",
        "    '*': 2,\n",
        "    'me': 2,\n",
        "    'mg': 2,\n",
        "    'mb': 2,\n",
        "    'mi': 2,\n",
        "    'ms': 2,\n",
        "    '∪': 2,\n",
        "    '+': 2,\n",
        "    'se': 2,\n",
        "    'sg': 2,\n",
        "    'sb': 2,\n",
        "    'si': 2,\n",
        "    'ss': 2,\n",
        "    '-': 2,\n",
        "    '\\\\': 2,\n",
        "    '⊕': 2,\n",
        "}\n",
        "\n",
        "FUNCTIONS = {\n",
        "    '﹁': dop,\n",
        "    '∩': peresechenie,\n",
        "    '*': multi,\n",
        "    'me': me,\n",
        "    'mg': mg,\n",
        "    'mb': mb,\n",
        "    'mi': mi,\n",
        "    'ms': ms,\n",
        "    '∪': obedinenie,\n",
        "    '+': alg_sum,\n",
        "    'se': se,\n",
        "    'sg': sg,\n",
        "    'sb': sb,\n",
        "    'si': si,\n",
        "    'ss': ss,\n",
        "    '-': raznost,\n",
        "    '\\\\': reznost_ogr,\n",
        "    '⊕': diz_sim,\n",
        "}\n",
        "\n",
        "SETS = {}"
      ],
      "metadata": {
        "id": "4UWqgwLrnUlB",
        "cellView": "form"
      },
      "execution_count": 2,
      "outputs": []
    },
    {
      "cell_type": "code",
      "source": [
        "# @title Stack\n",
        "\n",
        "class Stack():\n",
        "  __list: list\n",
        "\n",
        "  def __init__(self):\n",
        "    self.__list = []\n",
        "\n",
        "  def push(self, el):\n",
        "    self.__list.append(el)\n",
        "\n",
        "  def pop(self):\n",
        "    return self.__list.pop()\n",
        "\n",
        "  def peek(self):\n",
        "    return self.__list[-1] if len(self.__list) else None\n",
        "\n",
        "  def empty(self) -> bool:\n",
        "    return len(self.__list) == 0\n",
        "\n",
        "  def view(self) -> list:\n",
        "    return self.__list\n"
      ],
      "metadata": {
        "cellView": "form",
        "id": "--yKjGajdox4"
      },
      "execution_count": 3,
      "outputs": []
    },
    {
      "cell_type": "code",
      "source": [
        "# @title Computing\n",
        "\n",
        "def computing(text, sets):\n",
        "  variables = []\n",
        "  stack = Stack()\n",
        "\n",
        "  for s in [el.strip() for el in text.split(' ') if el != '']:\n",
        "    if s == '(':\n",
        "      stack.push('(')\n",
        "    elif s == ')':\n",
        "      while stack.peek() != '(':\n",
        "        variables.append(stack.pop())\n",
        "      stack.pop()\n",
        "    elif s in PRIORITY:\n",
        "      if stack.empty() or stack.peek() == '(' or PRIORITY[stack.peek()] < PRIORITY[s]:\n",
        "        stack.push(s)\n",
        "      else:\n",
        "        while not stack.empty() and stack.peek() != '(' and PRIORITY[stack.peek()] >= PRIORITY[s]:\n",
        "          variables.append(stack.pop())\n",
        "        stack.push(s)\n",
        "        # variables.append(s)\n",
        "    elif s in sets:\n",
        "      variables.append(s)\n",
        "\n",
        "  while not stack.empty():\n",
        "    variables.append(stack.pop())\n",
        "  \n",
        "  stack = Stack()\n",
        "\n",
        "  for el in variables:\n",
        "    if el in sets:\n",
        "      stack.push(sets[el])\n",
        "    elif el in ARGS:\n",
        "      if ARGS[el] == 1:\n",
        "        el1 = stack.pop()\n",
        "        stack.push(FUNCTIONS[el](el1))\n",
        "      else:\n",
        "        el2 = stack.pop()\n",
        "        el1 = stack.pop()\n",
        "        stack.push(FUNCTIONS[el](el1, el2))\n",
        "\n",
        "  return stack.view()[0]\n",
        "\n"
      ],
      "metadata": {
        "id": "urhL2-pFnUqc",
        "cellView": "form"
      },
      "execution_count": 4,
      "outputs": []
    },
    {
      "cell_type": "markdown",
      "source": [
        "# Сюда вставляем нечеткие множества"
      ],
      "metadata": {
        "id": "DdK7h9OVpzTa"
      }
    },
    {
      "cell_type": "code",
      "source": [
        "# ------------------------------------------------------------------------------\n",
        "# Нужно скопировать диапозон (с названиями нечетких множеств) из Excel, вставить в блокнот.\n",
        "# Потом скопировать все из блокнота в переменную data.\n",
        "data = \"\"\"\n",
        "A\t0,9\t0,73\t0\t0,38\t0,22\t0,73\t0,47\t0,73\t0,42\t0,08\t0,09\t0,06\n",
        "B\t0,94\t0\t0,87\t0,3\t0,66\t0,91\t0,71\t0,48\t0,85\t0,25\t0,75\t0,51\n",
        "C\t0,44\t0,61\t0,12\t0,63\t0,62\t0,98\t0,51\t0,55\t0,29\t0,54\t0,4\t0,22\n",
        "D\t0,65\t0,09\t0,74\t0,97\t0,76\t0,78\t0,93\t0,28\t0,23\t0,05\t0,02\t0,94\n",
        "E\t0,18\t0,96\t0,44\t0,2\t0,49\t0,86\t0,63\t0,64\t0,98\t0,48\t0,93\t0,6\n",
        "\"\"\"\n",
        "# До скольки знаков округлять.\n",
        "ROUND_C = 3\n",
        "# ------------------------------------------------------------------------------\n",
        "# Всё, что ниже, не меняем.\n",
        "# ------------------------------------------------------------------------------\n",
        "\n",
        "parse_sets(data)"
      ],
      "metadata": {
        "id": "99X8N2IXpzhq"
      },
      "execution_count": 14,
      "outputs": []
    },
    {
      "cell_type": "markdown",
      "source": [
        "# Задание 1."
      ],
      "metadata": {
        "id": "H3vlflpYhM4l"
      }
    },
    {
      "cell_type": "code",
      "source": [
        "# ------------------------------------------------------------------------------\n",
        "# !!! ВСЕ ЭЛЕМЕНТЫ ВВОДИТЬ ЧЕРЕЗ ПРОБЕЛ !!!\n",
        "# \n",
        "# Доступные операторы:\n",
        "# ﹁ ∩ * me mg mb mi ms ∪ + se sg sb si ss - \\ ⊕\n",
        "# Можно использовать только их.\n",
        "# \n",
        "# Возможные поблемы:\n",
        "# U может не работать, потому что в заданиях испльзуется маленькая u. Используйте (копируйте) вот этот символ -> ∪ <-.\n",
        "# ------------------------------------------------------------------------------\n",
        "# Выражения.\n",
        "# Каждое выражение в новой строке.\n",
        "expressions = \"\"\"\n",
        "( ﹁ A - B ) ∩ C\n",
        "﹁ A ∪ ﹁ ( B se ﹁ C )  \n",
        "A ∪ ﹁ ( ﹁ B si C )  \n",
        "D ss ( A ⊕ ﹁ E mg B )  \n",
        "D - ﹁ B ss ﹁ ( A me ﹁ C )  \n",
        "﹁ ( A ⊕ B si C ∪ ﹁ D )  \n",
        "D ∩ ﹁ ( A sg ﹁ E ⊕ ﹁ B mb C \n",
        "﹁ ( A ⊕ ﹁ B ms C ) ∪ ﹁ D se E\n",
        "A ⊕ ﹁ ( ﹁ B + C mg D ) ∪ E  \n",
        "\"\"\"\n",
        "# ------------------------------------------------------------------------------\n",
        "# Всё, что ниже, не меняем.\n",
        "# ------------------------------------------------------------------------------\n",
        "\n",
        "for expression in [e for e in expressions.split('\\n') if e != '']:\n",
        "  # print(round_set(computing(expression, SETS), ROUND_C)) # Неформатированный вывод.\n",
        "  print(f'{expression} =', round_set(computing(expression, SETS), ROUND_C))"
      ],
      "metadata": {
        "colab": {
          "base_uri": "https://localhost:8080/"
        },
        "id": "Jc9RBw5d2Giu",
        "outputId": "651a9e94-93b2-4db5-d887-e90f6415c11e"
      },
      "execution_count": 6,
      "outputs": [
        {
          "output_type": "stream",
          "name": "stdout",
          "text": [
            "( ﹁ A - B ) ∩ C = [0.12, 0.07, 0.12, 0.36, 0.08, 0.23, 0.1, 0.35, 0.64, 0.38, 0.05, 0.25, 0.17, 0.07, 0.46]\n",
            "﹁ A ∪ ﹁ ( B se ﹁ C )   = [0.79, 0.26, 0.59, 0.58, 0.86, 0.309, 0.91, 0.642, 0.71, 0.89, 0.88, 0.69, 0.298, 0.79, 0.609]\n",
            "A ∪ ﹁ ( ﹁ B si C )   = [0.21, 0.93, 0.88, 0.42, 0.14, 0.77, 0.09, 0.65, 0.29, 0.11, 0.12, 0.31, 0.83, 0.21, 0.54]\n",
            "D ss ( A ⊕ ﹁ E mg B )   = [0.79, 1, 1, 1, 1, 1, 1, 1, 1, 1, 1, 1, 1, 1, 1]\n",
            "D - ﹁ B ss ﹁ ( A me ﹁ C )   = [0.0, 0, 0, 0, 0, 0, 0, 0, 0, 0, 0, 0, 0, 0, 0]\n",
            "﹁ ( A ⊕ B si C ∪ ﹁ D )   = [0.21, 0.93, 0.87, 0.42, 0.14, 0.77, 0.09, 0.65, 0.29, 0.11, 0.12, 0.31, 0.83, 0.21, 0.54]\n",
            "D ∩ ﹁ ( A sg ﹁ E ⊕ ﹁ B mb C  = [0.0, 0.04, 0.13, 0.563, 0.34, 0.29, 0.02, 0.63, 0.3, 0.32, 0.697, 0.447, 0.24, 0.217, 0.13]\n",
            "﹁ ( A ⊕ ﹁ B ms C ) ∪ ﹁ D se E = [1.0, 0.999, 0.938, 0.986, 0.989, 0.889, 0.997, 0.704, 0.769, 0.97, 0.984, 0.902, 0.646, 0.863, 0.888]\n",
            "A ⊕ ﹁ ( ﹁ B + C mg D ) ∪ E   = [0.79, 0.07, 0.63, 0.58, 0.86, 0.37, 0.71, 0.53, 0.29, 0.58, 0.77, 0.56, 0.76, 0.251, 0.54]\n"
          ]
        }
      ]
    },
    {
      "cell_type": "markdown",
      "source": [
        "# Задание 2."
      ],
      "metadata": {
        "id": "NVminfc0hSKm"
      }
    },
    {
      "cell_type": "code",
      "source": [
        "# ------------------------------------------------------------------------------\n",
        "# Множество (имя) для концентрирования.\n",
        "set_name = 'D'\n",
        "# ------------------------------------------------------------------------------\n",
        "# Всё, что ниже, не меняем.\n",
        "# ------------------------------------------------------------------------------\n",
        "\n",
        "# print(round_set(pow_f(get_set(set_name), 2), ROUND_C)) # Неформатированный вывод.\n",
        "print(f'CON({set_name}) =', round_set(pow_f(get_set(set_name), 2), ROUND_C))"
      ],
      "metadata": {
        "colab": {
          "base_uri": "https://localhost:8080/"
        },
        "id": "dF2EAWg3gy6k",
        "outputId": "8c962f9a-35b9-446e-edbd-6f5fc6253361"
      },
      "execution_count": 7,
      "outputs": [
        {
          "output_type": "stream",
          "name": "stdout",
          "text": [
            "CON(D) = [0.0, 0.002, 0.017, 0.608, 0.116, 0.168, 0.0, 0.865, 0.09, 0.102, 0.865, 0.578, 0.27, 0.64, 0.017]\n"
          ]
        }
      ]
    },
    {
      "cell_type": "markdown",
      "source": [
        "# Задание 3."
      ],
      "metadata": {
        "id": "85AbfFL9i2PD"
      }
    },
    {
      "cell_type": "code",
      "source": [
        "# ------------------------------------------------------------------------------\n",
        "# Множество (имя) для растяжения.\n",
        "set_name = 'D'\n",
        "# ------------------------------------------------------------------------------\n",
        "# Всё, что ниже, не меняем.\n",
        "# ------------------------------------------------------------------------------\n",
        "\n",
        "# print(round_set(pow_f(get_set(set_name), 0.5), ROUND_C)) # Неформатированный вывод.\n",
        "print(f'DIL({set_name}) =', round_set(pow_f(get_set(set_name), 0.5), ROUND_C))"
      ],
      "metadata": {
        "colab": {
          "base_uri": "https://localhost:8080/"
        },
        "id": "9RqgTWnDienw",
        "outputId": "98335631-5679-4120-adda-e6e4080b195b"
      },
      "execution_count": 8,
      "outputs": [
        {
          "output_type": "stream",
          "name": "stdout",
          "text": [
            "DIL(D) = [0.0, 0.2, 0.361, 0.883, 0.583, 0.64, 0.141, 0.964, 0.548, 0.566, 0.964, 0.872, 0.721, 0.894, 0.361]\n"
          ]
        }
      ]
    },
    {
      "cell_type": "markdown",
      "source": [
        "# Задание 4."
      ],
      "metadata": {
        "id": "zd3oDAJhi_IM"
      }
    },
    {
      "cell_type": "code",
      "source": [
        "# ------------------------------------------------------------------------------\n",
        "# Число, на которое нужно умножить.\n",
        "a = 0.01\n",
        "# Множество (имя), которое будем умножать.\n",
        "set_name = 'D'\n",
        "# ------------------------------------------------------------------------------\n",
        "# Всё, что ниже, не меняем.\n",
        "# ------------------------------------------------------------------------------\n",
        "\n",
        "# print(round_set(multi_f(get_set(set_name), a), ROUND_C)) # Неформатированный вывод.\n",
        "print(f'{a} * {set_name} =', round_set(multi_f(get_set(set_name), a), ROUND_C))"
      ],
      "metadata": {
        "colab": {
          "base_uri": "https://localhost:8080/"
        },
        "id": "96VdKgkBi-b0",
        "outputId": "2a9898b0-9de4-4dcb-d6ef-b3a0a2cf4e5e"
      },
      "execution_count": 9,
      "outputs": [
        {
          "output_type": "stream",
          "name": "stdout",
          "text": [
            "0.01 * D = [0.0, 0.0, 0.001, 0.008, 0.003, 0.004, 0.0, 0.009, 0.003, 0.003, 0.009, 0.008, 0.005, 0.008, 0.001]\n"
          ]
        }
      ]
    },
    {
      "cell_type": "markdown",
      "source": [
        "# Задание 5."
      ],
      "metadata": {
        "id": "X6r7h7Jzja47"
      }
    },
    {
      "cell_type": "code",
      "source": [
        "# ------------------------------------------------------------------------------\n",
        "# Веса, разделенные ';'.\n",
        "weights_str = '0,31 ; 0,32 ; 0,1 ; 0,27'\n",
        "# Имена множеств (без разделителя), учавствующие в задании.\n",
        "sets_names_str = 'BCDA'\n",
        "# ------------------------------------------------------------------------------\n",
        "# Всё, что ниже, не меняем.\n",
        "# ------------------------------------------------------------------------------\n",
        "\n",
        "# print(round_set(convex_combination(parse_weights(weights_str), get_sets_by_str(sets_names_str)), ROUND_C)) # Неформатированный вывод.\n",
        "print('BK({}) ='.format(', '.join(sets_names_str)),\n",
        "      round_set(convex_combination(parse_weights(weights_str), get_sets_by_str(sets_names_str)), ROUND_C))"
      ],
      "metadata": {
        "colab": {
          "base_uri": "https://localhost:8080/"
        },
        "id": "M3FQaXILjabQ",
        "outputId": "bd9a6819-d059-483f-b99a-8ebda848eefd"
      },
      "execution_count": 10,
      "outputs": [
        {
          "output_type": "stream",
          "name": "stdout",
          "text": [
            "BK(B, C, D, A) = [0.406, 0.527, 0.439, 0.499, 0.141, 0.764, 0.145, 0.577, 0.463, 0.379, 0.145, 0.591, 0.435, 0.243, 0.559]\n"
          ]
        }
      ]
    },
    {
      "cell_type": "markdown",
      "source": [
        "# Задание 6."
      ],
      "metadata": {
        "id": "levABnjeleAr"
      }
    },
    {
      "cell_type": "code",
      "source": [
        "# ------------------------------------------------------------------------------\n",
        "# Ядро множества K.\n",
        "# Каждая запись должна быть в одной строке.\n",
        "data = \"\"\"\n",
        "K(x1)=1/x1+0,5/x2+0,33/x3+0,95/x4+0,36/x5+0,44/x6+0,57/x7+0,86/x8+0,94/x9+0,94/x10+0,83/x11+0,79/x12;\n",
        "K(x2)=1/x2+0,88/x1+0,95/x3+0,25/x4+0,03/x5+0,89/x6+0,71/x7+0,43/x8+0,31/x9+0,53/x10+0,74/x11+0,91/x12;\n",
        "K(x3)=1/x3+0,06/x1+0,26/x2+0,9/x4+0,49/x5+0,46/x6+0,69/x7+0,09/x8+0,03/x9+0,78/x10+0,08/x11+0,73/x12;\n",
        "K(x4)=1/x4+0,55/x1+0,54/x2+0,58/x3+0,27/x5+0,02/x6+0,65/x7+0,18/x8+0,2/x9+0,62/x10+0,54/x11+0,69/x12;\n",
        "K(x5)=1/x5+0,95/x1+0,91/x2+0,58/x3+0,94/x4+0,17/x6+0,75/x7+0,93/x8+0,75/x9+0,27/x10+0,14/x11+0,61/x12;\n",
        "K(x6)=1/x6+0,58/x1+0,27/x2+0,69/x3+0,45/x4+0,95/x5+0,11/x7+0,17/x8+0,85/x9+0,91/x10+0,05/x11+0,7/x12;\n",
        "K(x7)=1/x7+0,14/x1+0,39/x2+0,71/x3+0,44/x4+0,61/x5+0,69/x6+0,78/x8+0,13/x9+0,32/x10+0,12/x11+0,36/x12;\n",
        "K(x8)=1/x8+0,36/x1+0,3/x2+0,98/x3+0,91/x4+0,51/x5+0,51/x6+0,34/x7+0,09/x9+0,03/x10+0,81/x11+0,58/x12;\n",
        "K(x9)=1/x9+0,94/x1+0,95/x2+0,3/x3+0,58/x4+0,56/x5+0,69/x6+0,07/x7+0,03/x8+0,76/x10+0,63/x11+0,63/x12;\n",
        "K(x10)=1/x10+0,24/x1+0,76/x2+0,18/x3+0,22/x4+0,73/x5+0,13/x6+0,24/x7+0,96/x8+0,14/x9+0,82/x11+0,48/x12;\n",
        "K(x11)=1/x11+0,22/x1+0,9/x2+0,38/x3+0,47/x4+0,03/x5+0,59/x6+0,65/x7+0,51/x8+0,81/x9+0,01/x10+0,89/x12;\n",
        "K(x12)=1/x12+0,55/x1+0,44/x2+0,76/x3+0,13/x4+0,03/x5+0,12/x6+0,08/x7+0,06/x8+0,29/x9+0,35/x10+0,73/x11; \n",
        "\"\"\"\n",
        "# Имя множества для задания.\n",
        "set_name = 'D'\n",
        "# ------------------------------------------------------------------------------\n",
        "# Всё, что ниже, не меняем.\n",
        "# ------------------------------------------------------------------------------\n",
        " \n",
        "# print(round_set(increasing_fuzziness(get_set(set_name), parse_k_set(data)), ROUND_C)) # Неформатированный вывод.\n",
        "print(f'Ф({set_name}, K) =', round_set(increasing_fuzziness(get_set(set_name), parse_k_set(data)), ROUND_C))"
      ],
      "metadata": {
        "colab": {
          "base_uri": "https://localhost:8080/"
        },
        "id": "gQBjJtklldN-",
        "outputId": "0ffffbee-32ce-468c-a394-4c763efb15ae"
      },
      "execution_count": 15,
      "outputs": [
        {
          "output_type": "stream",
          "name": "stdout",
          "text": [
            "Ф(D, K) = [0.722, 0.692, 0.74, 0.97, 0.76, 0.78, 0.93, 0.725, 0.663, 0.71, 0.686, 0.94]\n"
          ]
        }
      ]
    }
  ]
}