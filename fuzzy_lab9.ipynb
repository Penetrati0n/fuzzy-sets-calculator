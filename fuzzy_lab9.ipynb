{
  "nbformat": 4,
  "nbformat_minor": 0,
  "metadata": {
    "colab": {
      "name": "fuzzy_lab9.ipynb",
      "provenance": [],
      "collapsed_sections": [],
      "include_colab_link": true
    },
    "kernelspec": {
      "name": "python3",
      "display_name": "Python 3"
    },
    "language_info": {
      "name": "python"
    }
  },
  "cells": [
    {
      "cell_type": "markdown",
      "metadata": {
        "id": "view-in-github",
        "colab_type": "text"
      },
      "source": [
        "<a href=\"https://colab.research.google.com/github/Penetrati0n/fuzzy-sets-calculator/blob/main/fuzzy_lab9.ipynb\" target=\"_parent\"><img src=\"https://colab.research.google.com/assets/colab-badge.svg\" alt=\"Open In Colab\"/></a>"
      ]
    },
    {
      "cell_type": "markdown",
      "source": [
        "# Core"
      ],
      "metadata": {
        "id": "x5r-ih2MnWcx"
      }
    },
    {
      "cell_type": "code",
      "source": [
        "SETS = {}"
      ],
      "metadata": {
        "id": "uSwZuw3ds3nJ"
      },
      "execution_count": 2,
      "outputs": []
    },
    {
      "cell_type": "code",
      "execution_count": 3,
      "metadata": {
        "id": "Mi7Rr37AlKEI"
      },
      "outputs": [],
      "source": [
        "import numpy as np\n",
        "\n",
        "def parse_set(raw: str):\n",
        "    raw = raw.strip()\n",
        "    lines = [l.strip() for l in raw.split('\\n') if l != '']\n",
        "    return np.array([l.split('\\t') for l in lines]).astype(float)\n",
        "\n",
        "def set_set(name: str, value):\n",
        "    global SETS\n",
        "    SETS[name] = value\n",
        "\n",
        "def get_set(name: str):\n",
        "    global SETS\n",
        "    return SETS[name] if name in SETS else None\n"
      ]
    },
    {
      "cell_type": "markdown",
      "source": [
        "## Functions"
      ],
      "metadata": {
        "id": "buBM9N53mSKg"
      }
    },
    {
      "cell_type": "code",
      "source": [
        "def contrary(set_value):\n",
        "    set_value = set_value.copy()\n",
        "    set_value[-1] = -set_value[-1]\n",
        "    return set_value\n",
        "\n",
        "def reverse(set_value):\n",
        "    set_value = set_value.copy()\n",
        "    set_value[-1] = 1 / set_value[-1]\n",
        "    return set_value\n",
        "\n",
        "def maxmin_sum(set_value1, set_value2):\n",
        "    set_value1 = set_value1.copy()\n",
        "    set_value2 = set_value2.copy()\n",
        "    \n",
        "    sum_matrix = []\n",
        "    value_matrix = []\n",
        "\n",
        "    for i in range(set_value1.shape[-1]):\n",
        "        sum_matrix.append(set_value1[1] + set_value2[1][i])\n",
        "        value_matrix.append(np.minimum(set_value1[0], set_value2[0][i]))\n",
        "\n",
        "    result = {}\n",
        "    for i in range(len(sum_matrix)):\n",
        "        for j in range(len(sum_matrix[i])):\n",
        "            if sum_matrix[i][j] in result and result[sum_matrix[i][j]] > value_matrix[i][j]:\n",
        "                continue\n",
        "            result[sum_matrix[i][j]] = value_matrix[i][j]\n",
        "    result = [(x, result[x]) for x in result]\n",
        "    result = sorted(result, key=lambda x: x[0])\n",
        "    u = [x[1] for x in result]\n",
        "    y = [x[0] for x in result]\n",
        "\n",
        "    return [u, y]\n",
        "\n",
        "def mean_sum(set_value1, set_value2):\n",
        "    set_value1 = set_value1.copy()\n",
        "    set_value2 = set_value2.copy()\n",
        "    \n",
        "    sum_matrix = []\n",
        "    value_matrix = []\n",
        "\n",
        "    for i in range(set_value1.shape[-1]):\n",
        "        sum_matrix.append(set_value1[1] + set_value2[1][i])\n",
        "        value_matrix.append([(e + set_value2[0][i]) / 2 for e in set_value1[0]])\n",
        "\n",
        "    result = {}\n",
        "    for i in range(len(sum_matrix)):\n",
        "        for j in range(len(sum_matrix[i])):\n",
        "            if sum_matrix[i][j] in result and result[sum_matrix[i][j]] > value_matrix[i][j]:\n",
        "                continue\n",
        "            result[sum_matrix[i][j]] = value_matrix[i][j]\n",
        "    result = [(x, result[x]) for x in result]\n",
        "    result = sorted(result, key=lambda x: x[0])\n",
        "    u = [x[1] for x in result]\n",
        "    y = [x[0] for x in result]\n",
        "\n",
        "    return [u, y]"
      ],
      "metadata": {
        "id": "oJVulIITmUxA"
      },
      "execution_count": 4,
      "outputs": []
    },
    {
      "cell_type": "markdown",
      "source": [
        "# Решение"
      ],
      "metadata": {
        "id": "R3fwBRp-nY4X"
      }
    },
    {
      "cell_type": "markdown",
      "source": [
        "## Ввод нечетких множеств"
      ],
      "metadata": {
        "id": "-Hx-GcddmbqX"
      }
    },
    {
      "cell_type": "code",
      "source": [
        "# ------------------------------------------------------------------------------\n",
        "# Исходное нечеткое множество A из Excel.\n",
        "# ------------------------------------------------------------------------------\n",
        "A_str = \"\"\"\n",
        "0\t0,45\t0,91\t1\t0,67\t0,33\t0\n",
        "1\t1,45\t1,91\t2\t4\t6\t8\n",
        "\n",
        "\"\"\"\n",
        "# ------------------------------------------------------------------------------\n",
        "# Исходное нечеткое множество B из Excel.\n",
        "# ------------------------------------------------------------------------------\n",
        "B_str = \"\"\"\n",
        "0\t0,33\t0,67\t1\t0,67\t0,33\t0\n",
        "6\t6,33\t6,67\t7\t7,67\t8,33\t9\n",
        "\n",
        "\"\"\"\n",
        "# ------------------------------------------------------------------------------\n",
        "# Всё, что ниже, не меняем.\n",
        "# ------------------------------------------------------------------------------\n",
        "\n",
        "set_set('A', parse_set(A_str.replace(',', '.'))); print('НМ A загружено.')\n",
        "set_set('B', parse_set(B_str.replace(',', '.'))); print('НМ B загружено.')"
      ],
      "metadata": {
        "id": "rirsSGmanZmP",
        "colab": {
          "base_uri": "https://localhost:8080/"
        },
        "outputId": "1b937176-8189-42d8-d48a-82ffe185a3df"
      },
      "execution_count": 12,
      "outputs": [
        {
          "output_type": "stream",
          "name": "stdout",
          "text": [
            "НМ A загружено.\n",
            "НМ B загружено.\n"
          ]
        }
      ]
    },
    {
      "cell_type": "markdown",
      "source": [
        "## Задания"
      ],
      "metadata": {
        "id": "DtrQs-mImvfQ"
      }
    },
    {
      "cell_type": "code",
      "source": [
        "#@title Задание 1.\n",
        "\n",
        "Найти = '\\u043F\\u0440\\u043E\\u0442\\u0438\\u0432\\u043E\\u043F\\u043E\\u043B\\u043E\\u0436\\u043D\\u043E\\u0435 \\u041D\\u0427' #@param [\"противоположное НЧ\", \"обратное НЧ\"]\n",
        "числа = 'B' #@param [\"A\", \"B\"]\n",
        "\n",
        "if Найти == 'противоположное НЧ':\n",
        "    result = contrary(get_set(числа))\n",
        "else:\n",
        "    result = reverse(get_set(числа))\n",
        "\n",
        "print('Размерность результирующего ТНЧ =', len(result[0]))\n",
        "for line in result:\n",
        "    print('\\t'.join([str(l) for l in line]).replace('.', ','))"
      ],
      "metadata": {
        "colab": {
          "base_uri": "https://localhost:8080/"
        },
        "cellView": "form",
        "id": "E5Q8rJCpmgWh",
        "outputId": "8e75908f-e058-43d1-ae3a-3f7630d9b1a3"
      },
      "execution_count": 16,
      "outputs": [
        {
          "output_type": "stream",
          "name": "stdout",
          "text": [
            "Размерность результирующего ТНЧ = 7\n",
            "0,0\t0,33\t0,67\t1,0\t0,67\t0,33\t0,0\n",
            "-6,0\t-6,33\t-6,67\t-7,0\t-7,67\t-8,33\t-9,0\n"
          ]
        }
      ]
    },
    {
      "cell_type": "code",
      "source": [
        "#@title Задание 2.\n",
        "\n",
        "Найти_сумму = 'mean' #@param [\"maxmin\", \"mean\"]\n",
        "числа = 'A' #@param [\"A\", \"B\"]\n",
        "и_числа = 'B' #@param [\"A\", \"B\"]\n",
        "\n",
        "if Найти_сумму == 'maxmin':\n",
        "    result = maxmin_sum(get_set(числа), get_set(и_числа))\n",
        "else:\n",
        "    result = mean_sum(get_set(числа), get_set(и_числа))\n",
        "\n",
        "print('Размерность результирующего ТНЧ =', len(result[0]))\n",
        "for line in result:\n",
        "    print('\\t'.join([str(l) for l in line]).replace('.', ','))"
      ],
      "metadata": {
        "colab": {
          "base_uri": "https://localhost:8080/"
        },
        "cellView": "form",
        "id": "xSSxDhHdpb0I",
        "outputId": "7e95d904-b0ce-49e9-a056-ce3a75acfefa"
      },
      "execution_count": 17,
      "outputs": [
        {
          "output_type": "stream",
          "name": "stdout",
          "text": [
            "Размерность результирующего ТНЧ = 40\n",
            "0,0\t0,165\t0,225\t0,335\t0,39\t0,455\t0,5\t0,56\t0,62\t0,665\t0,725\t0,79\t0,835\t0,9550000000000001\t1,0\t0,56\t0,165\t0,79\t0,835\t0,39\t0,335\t0,62\t0,665\t0,225\t0,67\t0,455\t0,835\t0,67\t0,165\t0,5\t0,5\t0,665\t0,5\t0,0\t0,33\t0,335\t0,5\t0,335\t0,165\t0,0\n",
            "7,0\t7,33\t7,45\t7,67\t7,78\t7,91\t8,0\t8,12\t8,24\t8,33\t8,45\t8,58\t8,67\t8,91\t9,0\t9,12\t9,33\t9,58\t9,67\t9,78\t10,0\t10,24\t10,33\t10,45\t10,67\t10,91\t11,0\t11,67\t12,0\t12,33\t12,67\t13,0\t13,67\t14,0\t14,33\t14,67\t15,0\t15,67\t16,33\t17,0\n"
          ]
        }
      ]
    }
  ]
}