{
  "nbformat": 4,
  "nbformat_minor": 0,
  "metadata": {
    "colab": {
      "name": "fuzzy-lab8.ipynb",
      "provenance": [],
      "collapsed_sections": [
        "Tb_amfl9NQ84"
      ],
      "authorship_tag": "ABX9TyODcg5RJqOK50L+4OOFfq4X",
      "include_colab_link": true
    },
    "kernelspec": {
      "name": "python3",
      "display_name": "Python 3"
    },
    "language_info": {
      "name": "python"
    }
  },
  "cells": [
    {
      "cell_type": "markdown",
      "metadata": {
        "id": "view-in-github",
        "colab_type": "text"
      },
      "source": [
        "<a href=\"https://colab.research.google.com/github/Penetrati0n/fuzzy-sets-calculator/blob/main/fuzzy_lab8.ipynb\" target=\"_parent\"><img src=\"https://colab.research.google.com/assets/colab-badge.svg\" alt=\"Open In Colab\"/></a>"
      ]
    },
    {
      "cell_type": "markdown",
      "source": [
        "# Core"
      ],
      "metadata": {
        "id": "Tb_amfl9NQ84"
      }
    },
    {
      "cell_type": "code",
      "execution_count": null,
      "metadata": {
        "id": "5-TUuK1yLcsB"
      },
      "outputs": [],
      "source": [
        "import numpy as np\n",
        "\n",
        "\n",
        "def parse_mapping_pdf(text: str) -> dict:\n",
        "    mapping = {}\n",
        "    lines = [line.strip() for line in text.replace('{', '').replace('}', '').split('\\n') if line and len(line.strip()) > 1]\n",
        "    for line in lines:\n",
        "        x, ys_line = line.split(':')\n",
        "        ys = tuple([el for el in ys_line.strip().split(';')])\n",
        "        mapping[x.strip()] = ys\n",
        "    return mapping\n",
        "\n",
        "def parse_mapping_excel(text: str) -> dict:\n",
        "    lines = [line.strip() for line in L.strip().split('\\n') if line.strip() != '']\n",
        "    mapping = {}\n",
        "    for line in lines:\n",
        "        x, *ys = line.split('\\t')\n",
        "        mapping[x] = tuple(ys)\n",
        "    return mapping\n",
        "\n",
        "def print_mapping(mapping: dict):\n",
        "    tmp = {(m, mapping[m]) for m in mapping}\n",
        "    tmp = sorted(tmp, key=lambda el: int(el[0][1:]))\n",
        "    for x, ys in tmp:\n",
        "        print(x, end='\\t')\n",
        "        print('\\t'.join(sorted(ys, key=lambda el: int(el[1:]))))\n",
        "\n",
        "def get_reverse_mapping(mapping: dict) -> dict:\n",
        "    unique_elements = {el for m in mapping for el in mapping[m]}\n",
        "    reverse_mapping = {m: set() for m in unique_elements}\n",
        "    for m in mapping:\n",
        "        for el in mapping[m]:\n",
        "            reverse_mapping[el].add(m)\n",
        "    for m in reverse_mapping:\n",
        "        reverse_mapping[m] = tuple(reverse_mapping[m])\n",
        "    return reverse_mapping\n",
        "\n",
        "def parse_FP(text: str) -> dict:\n",
        "    xs_str, vs_str = HM.strip().split('\\n')\n",
        "    xs = xs_str.strip().split('\\t')\n",
        "    vs = vs_str.strip().split('\\t')\n",
        "    FP = {xs[i]: float(vs[i].replace(',', '.')) for i in range(len(xs))}\n",
        "    return FP\n",
        "\n",
        "def new_matrix_shape(m1, m2) -> tuple:\n",
        "    return (m1 * m2).shape\n",
        "\n",
        "def maximin(m1, m2):\n",
        "    nm_shape = new_matrix_shape(m1, m2)\n",
        "    nm = np.matrix(np.zeros(np.multiply(*nm_shape)).reshape(nm_shape))\n",
        "    for i in range(nm_shape[0]):\n",
        "        for j in range(nm_shape[1]):\n",
        "            nm[i, j] = np.max(np.minimum(m1[i], m2[:, j].reshape(1, -1)))\n",
        "    return nm\n",
        "\n",
        "def parse_matrix(text: str):\n",
        "    return np.matrix(text.strip().replace(',', '.').replace('\\n', ';\\n'))\n",
        "\n",
        "def computing_part2(text_A: str, text_R: str):\n",
        "    A_matrix = parse_matrix(text_A)\n",
        "    R_matrix = parse_matrix(text_R)\n",
        "    result = maximin(A_matrix, R_matrix)\n",
        "    for line in np.array(result):\n",
        "        print('\\t'.join(line.astype(str)).replace('.', ','))\n"
      ]
    },
    {
      "cell_type": "markdown",
      "source": [
        "# Часть 1"
      ],
      "metadata": {
        "id": "xumVqWoAUu48"
      }
    },
    {
      "cell_type": "markdown",
      "source": [
        "## Необязательные ячейки"
      ],
      "metadata": {
        "id": "qvEJGoMzNS5m"
      }
    },
    {
      "cell_type": "code",
      "source": [
        "# ------------------------------------------------------------------------------\n",
        "# Преобоазует оборажение из pdf документа в удобное для копиование в Excel.\n",
        "# ------------------------------------------------------------------------------\n",
        "L_str = \"\"\"\n",
        "{ \n",
        "x1 :{ y1;y2;y4} \n",
        "x2 :{ y1;y5;y6;y7} \n",
        "x3 :{ y2;y4;y5;y6;y7;y8;y9} \n",
        "x4 :{ y1} \n",
        "x5 :{ y1;y4;y5;y6} \n",
        "x6 :{ y1;y2;y3;y4;y6} \n",
        "x7 :{ y1;y2;y4;y5;y7;y9} \n",
        "x8 :{ y2;y4;y5;y6;y8} \n",
        "x9 :{ y1;y2;y3} \n",
        "x10 :{ y2} \n",
        "} \n",
        "\"\"\"\n",
        "# ------------------------------------------------------------------------------\n",
        "# Всё, что ниже, не меняем.\n",
        "# ------------------------------------------------------------------------------\n",
        "\n",
        "print_mapping(parse_mapping_pdf(L_str))"
      ],
      "metadata": {
        "colab": {
          "base_uri": "https://localhost:8080/"
        },
        "id": "07NHvEQ3LiTy",
        "outputId": "8a3aca72-0964-4378-f9f8-22d3cc1326a8"
      },
      "execution_count": null,
      "outputs": [
        {
          "output_type": "stream",
          "name": "stdout",
          "text": [
            "x1\ty1\ty2\ty4\n",
            "x2\ty1\ty5\ty6\ty7\n",
            "x3\ty2\ty4\ty5\ty6\ty7\ty8\ty9\n",
            "x4\ty1\n",
            "x5\ty1\ty4\ty5\ty6\n",
            "x6\ty1\ty2\ty3\ty4\ty6\n",
            "x7\ty1\ty2\ty4\ty5\ty7\ty9\n",
            "x8\ty2\ty4\ty5\ty6\ty8\n",
            "x9\ty1\ty2\ty3\n",
            "x10\ty2\n"
          ]
        }
      ]
    },
    {
      "cell_type": "markdown",
      "source": [
        "## Решение"
      ],
      "metadata": {
        "id": "FY4eRAcndimX"
      }
    },
    {
      "cell_type": "code",
      "source": [
        "# ------------------------------------------------------------------------------\n",
        "# Исходное отображение из Excel.\n",
        "# ------------------------------------------------------------------------------\n",
        "L = \"\"\"\n",
        "x1\ty1\ty2\ty4\n",
        "x2\ty1\ty5\ty6\ty7\n",
        "x3\ty2\ty4\ty5\ty6\ty7\ty8\ty9\n",
        "x4\ty1\n",
        "x5\ty1\ty4\ty5\ty6\n",
        "x6\ty1\ty2\ty3\ty4\ty6\n",
        "x7\ty1\ty2\ty4\ty5\ty7\ty9\n",
        "x8\ty2\ty4\ty5\ty6\ty8\n",
        "x9\ty1\ty2\ty3\n",
        "x10\ty2\n",
        "\"\"\"\n",
        "# ------------------------------------------------------------------------------\n",
        "# Всё, что ниже, не меняем.\n",
        "# ------------------------------------------------------------------------------\n",
        "\n",
        "mapping = parse_mapping_excel(L)\n",
        "reversed_mapping = get_reverse_mapping(mapping)\n",
        "print_mapping(reversed_mapping)"
      ],
      "metadata": {
        "colab": {
          "base_uri": "https://localhost:8080/"
        },
        "id": "X1P2QoLcOYF9",
        "outputId": "2cce5aa9-7e42-4d9b-dff0-7ac4a670f034"
      },
      "execution_count": null,
      "outputs": [
        {
          "output_type": "stream",
          "name": "stdout",
          "text": [
            "y1\tx1\tx2\tx4\tx5\tx6\tx7\tx9\n",
            "y2\tx1\tx3\tx6\tx7\tx8\tx9\tx10\n",
            "y3\tx6\tx9\n",
            "y4\tx1\tx3\tx5\tx6\tx7\tx8\n",
            "y5\tx2\tx3\tx5\tx7\tx8\n",
            "y6\tx2\tx3\tx5\tx6\tx8\n",
            "y7\tx2\tx3\tx7\n",
            "y8\tx3\tx8\n",
            "y9\tx3\tx7\n"
          ]
        }
      ]
    },
    {
      "cell_type": "code",
      "source": [
        "# ------------------------------------------------------------------------------\n",
        "# Исходное нечеткое множество.\n",
        "# ------------------------------------------------------------------------------\n",
        "HM = \"\"\"\n",
        "x1\tx2\tx3\tx4\tx5\tx6\tx7\tx8\tx9\tx10\n",
        "0,43\t0,21\t0,92\t0,88\t0,9\t0,47\t0,37\t0,42\t0,91\t0,72\n",
        "\n",
        "\"\"\"\n",
        "# ------------------------------------------------------------------------------\n",
        "# Всё, что ниже, не меняем.\n",
        "# ------------------------------------------------------------------------------\n",
        "\n",
        "FP = parse_FP(HM)\n",
        "reversed_FP = {}\n",
        "for m in reversed_mapping:\n",
        "    reversed_FP[m] = max([FP[el] for el in reversed_mapping[m]])\n",
        "sorted_reversed_FP_args = sorted(reversed_FP)\n",
        "sorted_reversed_FP_values = [reversed_FP[a] for a in sorted_reversed_FP_args]\n",
        "print('\\t'.join(sorted_reversed_FP_args))\n",
        "print('\\t'.join([str(el).replace('.', ',') for el in sorted_reversed_FP_values]))"
      ],
      "metadata": {
        "colab": {
          "base_uri": "https://localhost:8080/"
        },
        "id": "3AMdJQA6T_bV",
        "outputId": "1bc1d11e-df1d-4376-b872-cac0b5b96c30"
      },
      "execution_count": null,
      "outputs": [
        {
          "output_type": "stream",
          "name": "stdout",
          "text": [
            "y1\ty10\ty2\ty3\ty4\ty5\ty6\ty7\ty8\ty9\n",
            "0,91\t0,0\t0,92\t0,91\t0,92\t0,92\t0,92\t0,92\t0,92\t0,92\n"
          ]
        }
      ]
    },
    {
      "cell_type": "markdown",
      "source": [
        "# Часть 2"
      ],
      "metadata": {
        "id": "KkbqFgWvdVbq"
      }
    },
    {
      "cell_type": "code",
      "source": [
        "# ------------------------------------------------------------------------------\n",
        "# Исходное множество А.\n",
        "# ------------------------------------------------------------------------------\n",
        "A = \"\"\"\n",
        "0\t0\t0,125\t0,2\t1\t0,333\t0\t0,111\n",
        "\"\"\"\n",
        "# ------------------------------------------------------------------------------\n",
        "# Исходное отношение R.\n",
        "# ------------------------------------------------------------------------------\n",
        "R = \"\"\"\n",
        "0\t0\t0,167\t0,125\t0\t0,5\t0\n",
        "0\t0,2\t0,125\t0\t0,143\t0,2\t0\n",
        "0\t0\t0,111\t0\t0\t0\t0\n",
        "0\t0,5\t0\t0,143\t0,125\t0\t0,1\n",
        "0\t1\t0\t0\t0,1\t0\t0\n",
        "0,1\t0\t0\t0\t0\t0\t0\n",
        "0,2\t0\t0\t0\t0\t0\t0\n",
        "0,143\t0,125\t1\t0\t0\t0\t0,5\n",
        "\n",
        "\"\"\"\n",
        "# ------------------------------------------------------------------------------\n",
        "# Всё, что ниже, не меняем.\n",
        "# ------------------------------------------------------------------------------\n",
        "\n",
        "computing_part2(A, R)"
      ],
      "metadata": {
        "colab": {
          "base_uri": "https://localhost:8080/"
        },
        "id": "4-XVKBrgWkdB",
        "outputId": "0fc7fa69-9190-4f15-a932-bd07245d815c"
      },
      "execution_count": null,
      "outputs": [
        {
          "output_type": "stream",
          "name": "stdout",
          "text": [
            "0,111\t1,0\t0,111\t0,143\t0,125\t0,0\t0,111\n"
          ]
        }
      ]
    }
  ]
}